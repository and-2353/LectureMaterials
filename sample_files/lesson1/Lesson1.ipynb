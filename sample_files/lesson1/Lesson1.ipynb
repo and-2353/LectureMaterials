{
  "nbformat": 4,
  "nbformat_minor": 0,
  "metadata": {
    "colab": {
      "name": "Lesson1.ipynb",
      "provenance": []
    },
    "kernelspec": {
      "name": "python3",
      "display_name": "Python 3"
    },
    "language_info": {
      "name": "python"
    }
  },
  "cells": [
    {
      "cell_type": "markdown",
      "metadata": {
        "id": "ddQxTZbg7YB3"
      },
      "source": [
        "# まず覚えてほしいこと2つ\n",
        "1. 関数「print」\n",
        "  - まず、```print()```を覚えましょう。\n",
        "  - ```print()``` はpythonに用意された関数です。\n",
        "  - ```print()``` を使うと、画面に値を表示することができます。\n",
        "\n",
        "2. コメントアウト\n",
        "  - コメントアウトはプログラムにおいて、コードを無効にすることです。\n",
        "  - 無効になったコードは、コンピュータに認識されなくなります。\n",
        "  - Pythonでは、```#``` をつけた以降のコメントはコメントアウトされます。\n",
        "  - 間違えたコードをあえて残す場合や、コードに説明文を残す場合に使われます。\n"
      ]
    },
    {
      "cell_type": "code",
      "metadata": {
        "colab": {
          "base_uri": "https://localhost:8080/"
        },
        "id": "hFaBu9E-7UWY",
        "outputId": "1ed0d15b-0dbc-42e4-e4d4-a7d41be4d5cf"
      },
      "source": [
        "# print() を使ってみましょう\n",
        "print(100)\n",
        "print('Python')"
      ],
      "execution_count": null,
      "outputs": [
        {
          "output_type": "stream",
          "text": [
            "100\n",
            "Python\n"
          ],
          "name": "stdout"
        }
      ]
    },
    {
      "cell_type": "markdown",
      "metadata": {
        "id": "cjB5D9s_-8mT"
      },
      "source": [
        "# データ型、あるいは型\n",
        "\n",
        "プログラミングで扱う値はすべて型を持ちます。\n",
        "基本の型は3つ。\n",
        "\n",
        "1. 文字列型（str型） \n",
        "      - `\"string\"`\n",
        "      - `'文字'`\n",
        "\n",
        "> 文字列の前後は `\"` か `'` でくくる事になってます。\n",
        "> そのため、先ほど実行したセルでもくくられていました。 \n",
        "\n",
        "2. 整数型（int型）\n",
        "  -  `123`\n",
        "\n",
        "3. 浮動小数点型（float型）\n",
        "  -  `123.0`\n",
        "  - `0.12`\n",
        "\n",
        "### ※基本は3つってだけで、いくらでもあるから注意してね...\n",
        "### 次回以降、少しずつ扱っていく予定です。"
      ]
    },
    {
      "cell_type": "code",
      "metadata": {
        "colab": {
          "base_uri": "https://localhost:8080/"
        },
        "id": "AUPQXmVl-4em",
        "outputId": "70c19947-7d08-44cd-ac98-c2adc2c52a8a"
      },
      "source": [
        "# type()関数で型の名前を返してくれます。\n",
        "print(type(1))\n",
        "print(type(True))"
      ],
      "execution_count": null,
      "outputs": [
        {
          "output_type": "stream",
          "text": [
            "<class 'int'>\n",
            "<class 'bool'>\n"
          ],
          "name": "stdout"
        }
      ]
    },
    {
      "cell_type": "markdown",
      "metadata": {
        "id": "bZGQDoliBixL"
      },
      "source": [
        "# 演算\n",
        "値同士で足し算できたり掛け算ができたりする。\n",
        "プログラミングの授業では「ほらねすごいでしょ！計算機みたいに使えるんだよ～」とか言われるけど、「いや、電卓使うわ」と思う。\n",
        "それでも基本なので、妥協してやってほしい。"
      ]
    },
    {
      "cell_type": "code",
      "metadata": {
        "id": "m8GHw_q1CMPX"
      },
      "source": [
        "print(1+2)  # -> int\n",
        "print(1/2*3)  # -> float\n",
        "print(2**10) # **はべき乗(2乗, 3乗とかの)\n",
        "print(100%3) # %は左を右で割ったあまり\n",
        "\n",
        "# 自分のファイルでも思いついた演算をしてみて...!!!"
      ],
      "execution_count": null,
      "outputs": []
    },
    {
      "cell_type": "code",
      "metadata": {
        "id": "OaT3F7qUCnyj"
      },
      "source": [
        "print(\"こん\" + \"にちは\")"
      ],
      "execution_count": null,
      "outputs": []
    },
    {
      "cell_type": "markdown",
      "metadata": {
        "id": "9JjI8wBCCyMg"
      },
      "source": [
        "はえ～str型同士でも足し算ができるんだ。\n",
        "それじゃこんなのどうだろう。"
      ]
    },
    {
      "cell_type": "code",
      "metadata": {
        "id": "0tQcEOvCCx2a",
        "colab": {
          "base_uri": "https://localhost:8080/"
        },
        "outputId": "4cef6c0f-e26f-4cb2-bd2a-c61c202d2efe"
      },
      "source": [
        "#print(\"ナンバーは: \" + 2)\n",
        "print(\"ナンバーは: \" + str(2))\n",
        "print(\"ナンバーは: \" + '2')"
      ],
      "execution_count": null,
      "outputs": [
        {
          "output_type": "stream",
          "text": [
            "ナンバーは: 2\n",
            "ナンバーは: 2\n"
          ],
          "name": "stdout"
        }
      ]
    },
    {
      "cell_type": "markdown",
      "metadata": {
        "id": "aeQGChhXDaAS"
      },
      "source": [
        "動かしてみよう、エラーが出るはずです。\n",
        "\n",
        "**TypeError** が出た。\n",
        "\n",
        "str(文字列)とint(整数)。違う型同士の足し算は定義されないようです。\n",
        "でも、できる場合もある。たとえば..."
      ]
    },
    {
      "cell_type": "code",
      "metadata": {
        "id": "j1BqKujUDwIZ",
        "colab": {
          "base_uri": "https://localhost:8080/"
        },
        "outputId": "4a7e9d43-a392-4e2a-e1a1-f7f1ebea0457"
      },
      "source": [
        "print(\"やっほー\"*4)\n",
        "\n",
        "# 不思議だね"
      ],
      "execution_count": null,
      "outputs": [
        {
          "output_type": "stream",
          "text": [
            "やっほーやっほーやっほーやっほー\n"
          ],
          "name": "stdout"
        }
      ]
    },
    {
      "cell_type": "markdown",
      "metadata": {
        "id": "2E1uxS6uEII9"
      },
      "source": [
        "どれができて，どれができないのかは経験で覚えるか説明書(リファレンスと呼ばれるもの)を見ましょう。"
      ]
    },
    {
      "cell_type": "markdown",
      "metadata": {
        "id": "EjL64A72HTfb"
      },
      "source": [
        "# 変数\n",
        "プログラミング言語における「値を入れておく箱」のことです。\n",
        "\n",
        "書き方は以下。\n",
        "```\n",
        "変数名 = 値\n",
        "```\n",
        "プログラミングにおいて、**「=」は代入を意味します。**これは大事だから覚えておいてほしい～"
      ]
    },
    {
      "cell_type": "code",
      "metadata": {
        "colab": {
          "base_uri": "https://localhost:8080/"
        },
        "id": "jSnt_952IMeG",
        "outputId": "3fee0999-59d7-4811-fc25-3e176de6adbc"
      },
      "source": [
        "a = 10\n",
        "b = 2\n",
        "print(a + b)\n",
        "print(a - b)\n",
        "print(a * b)\n",
        "print(a / b)\n",
        "print(a ** b)\n",
        "\n",
        "# 代入は上書きもできるからやってみてね"
      ],
      "execution_count": null,
      "outputs": [
        {
          "output_type": "stream",
          "text": [
            "12\n",
            "8\n",
            "20\n",
            "5.0\n",
            "100\n"
          ],
          "name": "stdout"
        }
      ]
    },
    {
      "cell_type": "markdown",
      "metadata": {
        "id": "nvoaapKZIbc0"
      },
      "source": [
        "ごめん、なんだかんだ長くなっちゃった。\n",
        "\n",
        "最初だから仕方ないね。許してください。\n",
        "\n",
        "条件分岐（if文）と繰り返し処理(for文)の書き方は次回以降やるよっ！\n",
        "\n",
        "（下のプログラムにいっぱい使っているので、余裕のある人は文法を感じ取ったり調べたりしてみて）\n",
        "\n",
        "あとは、「こんなこともできるんだ～」という感じで、動かしてみてください。\n"
      ]
    },
    {
      "cell_type": "code",
      "metadata": {
        "id": "TpR87sTcNagR",
        "colab": {
          "base_uri": "https://localhost:8080/"
        },
        "outputId": "d8089a62-54c9-48b2-e319-9fd913ba9670"
      },
      "source": [
        "# ブラックジャック\n",
        "\n",
        "import random\n",
        "\n",
        "cards = ['A'] + list(range(2, 11))\n",
        "w = [1 for i in range(len(cards))]\n",
        "w[-1] += 3\n",
        "\n",
        "def calculate_sum(cards):\n",
        "  if 'A' in cards:\n",
        "    count_A = cards.count('A')\n",
        "    cards = [i for i in cards if i != 'A']\n",
        "    value = sum(cards)\n",
        "    value += count_A * 11\n",
        "    for i in range(count_A):\n",
        "      if value > 21:\n",
        "        value -= 10\n",
        "    return value\n",
        "  else:\n",
        "    return sum(cards)\n",
        "\n",
        "def result(player_cards):\n",
        "  cpu_cards = random.choices(cards, k = 2, weights = w)\n",
        "  while True:\n",
        "    if calculate_sum(cpu_cards) < 15:\n",
        "      cpu_cards.append(random.choices(cards, k = 1, weights = w)[0])\n",
        "    else:\n",
        "      break\n",
        "  player_score = calculate_sum(player_cards)\n",
        "  cpu_score = calculate_sum(cpu_cards)\n",
        "  print('～結果発表～')\n",
        "  print(f'あなたのカードは{my_cards}, 合計は{player_score}です')\n",
        "  print(f'CPUのカードは{cpu_cards}, 合計は{cpu_score}です')\n",
        "  if player_score > 21 and cpu_score > 21:\n",
        "    print('引き分け')\n",
        "  elif player_score > 21 and cpu_score < 21:\n",
        "    print('CPUの勝ちです')\n",
        "  elif player_score < 21 and cpu_score > 21:\n",
        "    print('あなたの勝ちです')\n",
        "  else:\n",
        "    if player_score > cpu_score:\n",
        "      print('あなたの勝ちです')\n",
        "    elif player_score < cpu_score:\n",
        "      print('CPUの勝ちです')\n",
        "    else:\n",
        "      print('引き分け')\n",
        "\n",
        "\n",
        "my_cards = random.choices(cards, k = 2, weights = w)\n",
        "print(f'あなたのカードは{my_cards}, 合計は{calculate_sum(my_cards)}です')\n",
        "\n",
        "while True:\n",
        "  if calculate_sum(my_cards) < 21:\n",
        "    command = input('カードを引きますか？y/n')\n",
        "    if command == 'y':\n",
        "      my_cards.append(random.choices(cards, k=1, weights = w)[0])\n",
        "      print(f'あなたのカードは{my_cards}, 合計は{calculate_sum(my_cards)}です\\n')\n",
        "    elif command == 'n':\n",
        "      print('\\n')\n",
        "      result(my_cards)\n",
        "      break\n",
        "    else:\n",
        "      print('y もしくは n を入力してください')\n",
        "      continue\n",
        "  else:\n",
        "    result(my_cards)\n",
        "    break\n"
      ],
      "execution_count": null,
      "outputs": [
        {
          "output_type": "stream",
          "text": [
            "あなたのカードは[5, 10], 合計は15です\n",
            "カードを引きますか？y/ny\n",
            "あなたのカードは[5, 10, 9], 合計は24です\n",
            "\n",
            "～結果発表～\n",
            "あなたのカードは[5, 10, 9], 合計は24です\n",
            "CPUのカードは[10, 'A'], 合計は21です\n",
            "あなたの勝ちです\n"
          ],
          "name": "stdout"
        }
      ]
    }
  ]
}